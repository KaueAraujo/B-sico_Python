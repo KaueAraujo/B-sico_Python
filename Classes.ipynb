{
 "cells": [
  {
   "cell_type": "markdown",
   "metadata": {},
   "source": [
    "<h3>Classes"
   ]
  },
  {
   "cell_type": "code",
   "execution_count": 1,
   "metadata": {},
   "outputs": [],
   "source": [
    "class Livro():\n",
    "\n",
    "    #Este método vai iniciar cada objeto criado a partir dessa classe\n",
    "    #O nome dessa classe é __init__\n",
    "    #(self) é uma referência a cada atributo da própria classe (e não da classe mãe por exemplo)\n",
    "    def __init__(self):\n",
    "        #Atributos são propriedades\n",
    "        self.titulo = 'Sapiens - Uma breve história da humanidade'\n",
    "        self.isbn = 9988888\n",
    "        print(\"Construtor chamado para criar um objeto da classe Livro.\")\n",
    "\n",
    "    #Métodos são funções que executam ações dentro da classe\n",
    "    def imprime(self):\n",
    "        print(\"Foi criado o livro %s com o ISBN %d\" %(self.titulo, self.isbn))"
   ]
  },
  {
   "cell_type": "code",
   "execution_count": 5,
   "metadata": {},
   "outputs": [
    {
     "name": "stdout",
     "output_type": "stream",
     "text": [
      "Construtor chamado para criar um objeto da classe Livro.\n"
     ]
    }
   ],
   "source": [
    "livro1 = Livro()"
   ]
  },
  {
   "cell_type": "code",
   "execution_count": 6,
   "metadata": {},
   "outputs": [
    {
     "data": {
      "text/plain": [
       "__main__.Livro"
      ]
     },
     "execution_count": 6,
     "metadata": {},
     "output_type": "execute_result"
    }
   ],
   "source": [
    "type(livro1)"
   ]
  },
  {
   "cell_type": "code",
   "execution_count": 7,
   "metadata": {},
   "outputs": [
    {
     "data": {
      "text/plain": [
       "'Sapiens - Uma breve história da humanidade'"
      ]
     },
     "execution_count": 7,
     "metadata": {},
     "output_type": "execute_result"
    }
   ],
   "source": [
    "livro1.titulo"
   ]
  },
  {
   "cell_type": "code",
   "execution_count": 8,
   "metadata": {},
   "outputs": [
    {
     "name": "stdout",
     "output_type": "stream",
     "text": [
      "Foi criado o livro Sapiens - Uma breve história da humanidade com o ISBN 9988888\n"
     ]
    }
   ],
   "source": [
    "livro1.imprime()"
   ]
  },
  {
   "cell_type": "code",
   "execution_count": 9,
   "metadata": {},
   "outputs": [],
   "source": [
    "#Recriando a classe com parâmetros no método construtor\n",
    "class Livro():\n",
    "\n",
    "    #Este método vai iniciar cada objeto criado a partir dessa classe\n",
    "    #O nome dessa classe é __init__\n",
    "    #(self) é uma referência a cada atributo da própria classe (e não da classe mãe por exemplo)\n",
    "    def __init__(self, titulo, isbn):\n",
    "        #Atributos são propriedades\n",
    "        self.titulo = titulo\n",
    "        self.isbn = isbn\n",
    "        print(\"Construtor chamado para criar um objeto da classe Livro.\")\n",
    "\n",
    "    #Métodos são funções que executam ações dentro da classe\n",
    "    def imprime(self):\n",
    "        print(\"Foi criado o livro %s com o ISBN %d\" %(self.titulo, self.isbn))"
   ]
  },
  {
   "cell_type": "code",
   "execution_count": 10,
   "metadata": {},
   "outputs": [
    {
     "name": "stdout",
     "output_type": "stream",
     "text": [
      "Construtor chamado para criar um objeto da classe Livro.\n"
     ]
    }
   ],
   "source": [
    "livro2 = Livro(\"O Poder do Hábito\", 77886611)"
   ]
  },
  {
   "cell_type": "code",
   "execution_count": 11,
   "metadata": {},
   "outputs": [
    {
     "name": "stdout",
     "output_type": "stream",
     "text": [
      "Foi criado o livro O Poder do Hábito com o ISBN 77886611\n"
     ]
    }
   ],
   "source": [
    "livro2.imprime()"
   ]
  },
  {
   "cell_type": "code",
   "execution_count": 12,
   "metadata": {},
   "outputs": [],
   "source": [
    "class Algoritmo():\n",
    "\n",
    "    def __init__(self, tipo_algo):\n",
    "        self.tipo = tipo_algo\n",
    "        print(\"Construtor chamado para criar um objeto da classe Algoritmo\")"
   ]
  },
  {
   "cell_type": "code",
   "execution_count": 13,
   "metadata": {},
   "outputs": [
    {
     "name": "stdout",
     "output_type": "stream",
     "text": [
      "Construtor chamado para criar um objeto da classe Algoritmo\n"
     ]
    }
   ],
   "source": [
    "algo1 = Algoritmo(\"Random Forest\")"
   ]
  },
  {
   "cell_type": "code",
   "execution_count": 14,
   "metadata": {},
   "outputs": [
    {
     "name": "stdout",
     "output_type": "stream",
     "text": [
      "Construtor chamado para criar um objeto da classe Algoritmo\n"
     ]
    }
   ],
   "source": [
    "algo2 = Algoritmo(\"Deep Learning\")"
   ]
  },
  {
   "cell_type": "code",
   "execution_count": 15,
   "metadata": {},
   "outputs": [
    {
     "data": {
      "text/plain": [
       "'Random Forest'"
      ]
     },
     "execution_count": 15,
     "metadata": {},
     "output_type": "execute_result"
    }
   ],
   "source": [
    "algo1.tipo"
   ]
  },
  {
   "cell_type": "code",
   "execution_count": 16,
   "metadata": {},
   "outputs": [
    {
     "data": {
      "text/plain": [
       "'Deep Learning'"
      ]
     },
     "execution_count": 16,
     "metadata": {},
     "output_type": "execute_result"
    }
   ],
   "source": [
    "algo2.tipo"
   ]
  },
  {
   "cell_type": "code",
   "execution_count": 18,
   "metadata": {},
   "outputs": [
    {
     "name": "stdout",
     "output_type": "stream",
     "text": [
      "<class 'int'>\n",
      "<class 'list'>\n",
      "<class 'dict'>\n",
      "<class 'tuple'>\n",
      "<class 'str'>\n"
     ]
    }
   ],
   "source": [
    "print(type(10))\n",
    "print(type([]))\n",
    "print(type({}))\n",
    "print(type(()))\n",
    "print(type('a'))"
   ]
  },
  {
   "cell_type": "code",
   "execution_count": 19,
   "metadata": {},
   "outputs": [],
   "source": [
    "class Estudantes():\n",
    "\n",
    "    def __init__(self, nome, idade, nota):\n",
    "        self.nome = nome\n",
    "        self.idade = idade\n",
    "        self.nota = nota"
   ]
  },
  {
   "cell_type": "code",
   "execution_count": 20,
   "metadata": {},
   "outputs": [],
   "source": [
    "est1 = Estudantes(\"Bob\", 18, 9.5)"
   ]
  },
  {
   "cell_type": "code",
   "execution_count": 21,
   "metadata": {},
   "outputs": [
    {
     "name": "stdout",
     "output_type": "stream",
     "text": [
      "Bob\n",
      "18\n",
      "9.5\n"
     ]
    }
   ],
   "source": [
    "print(est1.nome)\n",
    "print(est1.idade)\n",
    "print(est1.nota)"
   ]
  },
  {
   "cell_type": "code",
   "execution_count": 26,
   "metadata": {},
   "outputs": [],
   "source": [
    "class Funcionario():\n",
    "    \n",
    "    def __init__(self, nome, salario, cargo):\n",
    "        self.nome = nome\n",
    "        self.salario = salario\n",
    "        self.cargo = cargo\n",
    "\n",
    "    def lisrFunc(self):\n",
    "        print(\"Funcionário(a) \"+self.nome+\" tem salário de \"+str(self.salario)+\" e o cargo é \"+self.cargo)"
   ]
  },
  {
   "cell_type": "code",
   "execution_count": 27,
   "metadata": {},
   "outputs": [],
   "source": [
    "func1 = Funcionario(\"Mary\", 20000, 'Cientista de Dados')"
   ]
  },
  {
   "cell_type": "code",
   "execution_count": 28,
   "metadata": {},
   "outputs": [
    {
     "name": "stdout",
     "output_type": "stream",
     "text": [
      "Funcionário(a) Mary tem salário de 20000 e o cargo é Cientista de Dados\n"
     ]
    }
   ],
   "source": [
    "func1.lisrFunc()"
   ]
  },
  {
   "cell_type": "code",
   "execution_count": 29,
   "metadata": {},
   "outputs": [
    {
     "data": {
      "text/plain": [
       "True"
      ]
     },
     "execution_count": 29,
     "metadata": {},
     "output_type": "execute_result"
    }
   ],
   "source": [
    "hasattr(func1, \"nome\")"
   ]
  },
  {
   "cell_type": "code",
   "execution_count": 30,
   "metadata": {},
   "outputs": [
    {
     "data": {
      "text/plain": [
       "True"
      ]
     },
     "execution_count": 30,
     "metadata": {},
     "output_type": "execute_result"
    }
   ],
   "source": [
    "hasattr(func1, \"salario\")"
   ]
  },
  {
   "cell_type": "code",
   "execution_count": 31,
   "metadata": {},
   "outputs": [],
   "source": [
    "setattr(func1, \"salario\", 45000)"
   ]
  },
  {
   "cell_type": "code",
   "execution_count": 32,
   "metadata": {},
   "outputs": [
    {
     "data": {
      "text/plain": [
       "True"
      ]
     },
     "execution_count": 32,
     "metadata": {},
     "output_type": "execute_result"
    }
   ],
   "source": [
    "hasattr(func1, \"salario\")"
   ]
  },
  {
   "cell_type": "code",
   "execution_count": 33,
   "metadata": {},
   "outputs": [
    {
     "data": {
      "text/plain": [
       "45000"
      ]
     },
     "execution_count": 33,
     "metadata": {},
     "output_type": "execute_result"
    }
   ],
   "source": [
    "getattr(func1, \"salario\")"
   ]
  },
  {
   "cell_type": "code",
   "execution_count": 34,
   "metadata": {},
   "outputs": [
    {
     "name": "stdout",
     "output_type": "stream",
     "text": [
      "Funcionário(a) Mary tem salário de 45000 e o cargo é Cientista de Dados\n"
     ]
    }
   ],
   "source": [
    "func1.lisrFunc()"
   ]
  },
  {
   "cell_type": "code",
   "execution_count": 35,
   "metadata": {},
   "outputs": [],
   "source": [
    "delattr(func1, 'salario')"
   ]
  },
  {
   "cell_type": "code",
   "execution_count": 36,
   "metadata": {},
   "outputs": [
    {
     "ename": "AttributeError",
     "evalue": "'Funcionario' object has no attribute 'salario'",
     "output_type": "error",
     "traceback": [
      "\u001b[1;31m---------------------------------------------------------------------------\u001b[0m",
      "\u001b[1;31mAttributeError\u001b[0m                            Traceback (most recent call last)",
      "Cell \u001b[1;32mIn[36], line 1\u001b[0m\n\u001b[1;32m----> 1\u001b[0m \u001b[43mfunc1\u001b[49m\u001b[38;5;241;43m.\u001b[39;49m\u001b[43mlisrFunc\u001b[49m\u001b[43m(\u001b[49m\u001b[43m)\u001b[49m\n",
      "Cell \u001b[1;32mIn[26], line 9\u001b[0m, in \u001b[0;36mFuncionario.lisrFunc\u001b[1;34m(self)\u001b[0m\n\u001b[0;32m      8\u001b[0m \u001b[38;5;28;01mdef\u001b[39;00m \u001b[38;5;21mlisrFunc\u001b[39m(\u001b[38;5;28mself\u001b[39m):\n\u001b[1;32m----> 9\u001b[0m     \u001b[38;5;28mprint\u001b[39m(\u001b[38;5;124m\"\u001b[39m\u001b[38;5;124mFuncionário(a) \u001b[39m\u001b[38;5;124m\"\u001b[39m\u001b[38;5;241m+\u001b[39m\u001b[38;5;28mself\u001b[39m\u001b[38;5;241m.\u001b[39mnome\u001b[38;5;241m+\u001b[39m\u001b[38;5;124m\"\u001b[39m\u001b[38;5;124m tem salário de \u001b[39m\u001b[38;5;124m\"\u001b[39m\u001b[38;5;241m+\u001b[39m\u001b[38;5;28mstr\u001b[39m(\u001b[38;5;28;43mself\u001b[39;49m\u001b[38;5;241;43m.\u001b[39;49m\u001b[43msalario\u001b[49m)\u001b[38;5;241m+\u001b[39m\u001b[38;5;124m\"\u001b[39m\u001b[38;5;124m e o cargo é \u001b[39m\u001b[38;5;124m\"\u001b[39m\u001b[38;5;241m+\u001b[39m\u001b[38;5;28mself\u001b[39m\u001b[38;5;241m.\u001b[39mcargo)\n",
      "\u001b[1;31mAttributeError\u001b[0m: 'Funcionario' object has no attribute 'salario'"
     ]
    }
   ],
   "source": [
    "func1.lisrFunc()"
   ]
  },
  {
   "cell_type": "markdown",
   "metadata": {},
   "source": [
    "<h3> Trabalhando com Métodos de objetos</h3>\n",
    "Métodos são funções definidas dentro de uma classe."
   ]
  },
  {
   "cell_type": "code",
   "execution_count": 37,
   "metadata": {},
   "outputs": [],
   "source": [
    "class Circulo():\n",
    "    #O valor de pi é constante\n",
    "    pi = 3.14\n",
    "\n",
    "    #Quando um objeto dessa classe for criado, este método será executado e o valor default do raio será 5\n",
    "    def __init__(self, raio=5):\n",
    "        self.raio = raio\n",
    "    \n",
    "    #Esse método calcula a área do círculo\n",
    "    def area(self):\n",
    "        return (self.raio**2)*Circulo.pi\n",
    "    \n",
    "    #Setter\n",
    "    def setRaio(self, novo_raio):\n",
    "        self.raio = novo_raio\n",
    "\n",
    "    #Getter\n",
    "    def getRaio(self):\n",
    "        return self.raio"
   ]
  },
  {
   "cell_type": "code",
   "execution_count": 38,
   "metadata": {},
   "outputs": [],
   "source": [
    "circ = Circulo()"
   ]
  },
  {
   "cell_type": "code",
   "execution_count": 39,
   "metadata": {},
   "outputs": [
    {
     "data": {
      "text/plain": [
       "5"
      ]
     },
     "execution_count": 39,
     "metadata": {},
     "output_type": "execute_result"
    }
   ],
   "source": [
    "circ.getRaio()"
   ]
  },
  {
   "cell_type": "code",
   "execution_count": 40,
   "metadata": {},
   "outputs": [],
   "source": [
    "circ1 = Circulo(raio=7)"
   ]
  },
  {
   "cell_type": "code",
   "execution_count": 41,
   "metadata": {},
   "outputs": [
    {
     "data": {
      "text/plain": [
       "7"
      ]
     },
     "execution_count": 41,
     "metadata": {},
     "output_type": "execute_result"
    }
   ],
   "source": [
    "circ1.getRaio()"
   ]
  },
  {
   "cell_type": "code",
   "execution_count": 42,
   "metadata": {},
   "outputs": [
    {
     "name": "stdout",
     "output_type": "stream",
     "text": [
      "A área é : 78.5\n"
     ]
    }
   ],
   "source": [
    "print(\"A área é :\", circ.area())"
   ]
  },
  {
   "cell_type": "code",
   "execution_count": 43,
   "metadata": {},
   "outputs": [],
   "source": [
    "circ.setRaio(3)"
   ]
  },
  {
   "cell_type": "code",
   "execution_count": 44,
   "metadata": {},
   "outputs": [
    {
     "data": {
      "text/plain": [
       "3"
      ]
     },
     "execution_count": 44,
     "metadata": {},
     "output_type": "execute_result"
    }
   ],
   "source": [
    "circ.getRaio()"
   ]
  },
  {
   "cell_type": "code",
   "execution_count": 45,
   "metadata": {},
   "outputs": [
    {
     "name": "stdout",
     "output_type": "stream",
     "text": [
      "A nova área é:  28.26\n"
     ]
    }
   ],
   "source": [
    "print(\"A nova área é: \", circ.area())"
   ]
  },
  {
   "cell_type": "markdown",
   "metadata": {},
   "source": [
    "<h3> Herança</h3>\n",
    "Uma classe filha herda alguma coisa de uma classe mãe"
   ]
  },
  {
   "cell_type": "code",
   "execution_count": 47,
   "metadata": {},
   "outputs": [],
   "source": [
    "#Criando a classe animal - Super-classe\n",
    "class Animal():\n",
    "    def __init__(self):\n",
    "        print(\"Animal criado.\")\n",
    "    \n",
    "    def imprimir(self):\n",
    "        print(\"Esse é um animal!\")\n",
    "\n",
    "    def comer(self):\n",
    "        print(\"Hora de comer!\")\n",
    "    \n",
    "    def emitir_som(self):\n",
    "        pass"
   ]
  },
  {
   "cell_type": "code",
   "execution_count": 55,
   "metadata": {},
   "outputs": [],
   "source": [
    "#Criando a clase Cachorro - Sub-classe\n",
    "\n",
    "class Cachorro(Animal):\n",
    "    def __init__(self):\n",
    "        Animal.__init__(self)\n",
    "        print(\"Objeto cachorro criado\")\n",
    "    \n",
    "    def emitir_som(self):\n",
    "        print(\"Au au!\")"
   ]
  },
  {
   "cell_type": "code",
   "execution_count": 56,
   "metadata": {},
   "outputs": [],
   "source": [
    "#Criando a clase Gato - Sub-classe\n",
    "\n",
    "class Gato(Animal):\n",
    "    def __init__(self):\n",
    "        Animal.__init__(self)\n",
    "        print(\"Objeto gato criado\")\n",
    "    \n",
    "    def emitir_som(self):\n",
    "        print(\"Miau!\")"
   ]
  },
  {
   "cell_type": "code",
   "execution_count": 57,
   "metadata": {},
   "outputs": [
    {
     "name": "stdout",
     "output_type": "stream",
     "text": [
      "Animal criado.\n",
      "Objeto cachorro criado\n"
     ]
    }
   ],
   "source": [
    "rex = Cachorro()"
   ]
  },
  {
   "cell_type": "code",
   "execution_count": 58,
   "metadata": {},
   "outputs": [
    {
     "name": "stdout",
     "output_type": "stream",
     "text": [
      "Animal criado.\n",
      "Objeto gato criado\n"
     ]
    }
   ],
   "source": [
    "zeze = Gato()"
   ]
  },
  {
   "cell_type": "code",
   "execution_count": 59,
   "metadata": {},
   "outputs": [
    {
     "name": "stdout",
     "output_type": "stream",
     "text": [
      "Au au!\n"
     ]
    }
   ],
   "source": [
    "rex.emitir_som()"
   ]
  },
  {
   "cell_type": "code",
   "execution_count": 60,
   "metadata": {},
   "outputs": [
    {
     "name": "stdout",
     "output_type": "stream",
     "text": [
      "Miau!\n"
     ]
    }
   ],
   "source": [
    "zeze.emitir_som()"
   ]
  },
  {
   "cell_type": "code",
   "execution_count": 61,
   "metadata": {},
   "outputs": [
    {
     "name": "stdout",
     "output_type": "stream",
     "text": [
      "Hora de comer!\n"
     ]
    }
   ],
   "source": [
    "rex.comer()"
   ]
  },
  {
   "cell_type": "code",
   "execution_count": 62,
   "metadata": {},
   "outputs": [
    {
     "name": "stdout",
     "output_type": "stream",
     "text": [
      "Hora de comer!\n"
     ]
    }
   ],
   "source": [
    "zeze.comer()"
   ]
  },
  {
   "cell_type": "markdown",
   "metadata": {},
   "source": [
    "<h3>Polimorfismo</h3>\n",
    "Permite que objetos de diferentes classes possam ser tratados de maneira uniforme. Isso significa que um objeto pode ser tratado como se fosse um objeto de uma superclasse, mesmo que ele seja de uma subclasse."
   ]
  },
  {
   "cell_type": "code",
   "execution_count": 63,
   "metadata": {},
   "outputs": [],
   "source": [
    "#Superclasse\n",
    "class Veiculo():\n",
    "    def __init__(self, marca, modelo):\n",
    "        self.marca = marca\n",
    "        self.modelo = modelo\n",
    "    \n",
    "    def acelerar(self):\n",
    "        pass\n",
    "\n",
    "    def frear(self):\n",
    "        pass"
   ]
  },
  {
   "cell_type": "code",
   "execution_count": 64,
   "metadata": {},
   "outputs": [],
   "source": [
    "#Subclasse\n",
    "class Carro(Veiculo):\n",
    "    def acelerar(self):\n",
    "        print(\"O carro está acelerando.\")\n",
    "    \n",
    "    def frear(self):\n",
    "        print(\"O carro está freando.\")"
   ]
  },
  {
   "cell_type": "code",
   "execution_count": 65,
   "metadata": {},
   "outputs": [],
   "source": [
    "#Subclasse\n",
    "class Moto(Veiculo):\n",
    "    def acelerar(self):\n",
    "        print(\"A moto está acelerando.\")\n",
    "    \n",
    "    def frear(self):\n",
    "        print(\"A moto está freando.\")"
   ]
  },
  {
   "cell_type": "code",
   "execution_count": 66,
   "metadata": {},
   "outputs": [],
   "source": [
    "#Subclasse\n",
    "class Aviao(Veiculo):\n",
    "    def acelerar(self):\n",
    "        print(\"O aviao está acelerando.\")\n",
    "    \n",
    "    def frear(self):\n",
    "        print(\"O aviao está freando.\")\n",
    "\n",
    "    def decolar(self):\n",
    "        print(\"O aviao está decolando.\")"
   ]
  },
  {
   "cell_type": "code",
   "execution_count": 67,
   "metadata": {},
   "outputs": [],
   "source": [
    "lista_de_veiculos = [Carro(\"Porche\", \"911 Turbo\"), Moto(\"Honda\", \"CB 1000R Black Edition\"), Aviao(\"Boeing\", \"757\")]"
   ]
  },
  {
   "cell_type": "code",
   "execution_count": 68,
   "metadata": {},
   "outputs": [
    {
     "name": "stdout",
     "output_type": "stream",
     "text": [
      "O carro está acelerando.\n",
      "O carro está freando.\n",
      "-----\n",
      "A moto está acelerando.\n",
      "A moto está freando.\n",
      "-----\n",
      "O aviao está acelerando.\n",
      "O aviao está freando.\n",
      "O aviao está decolando.\n",
      "-----\n"
     ]
    }
   ],
   "source": [
    "for item in lista_de_veiculos:\n",
    "    item.acelerar()\n",
    "    item.frear()\n",
    "    if isinstance(item, Aviao):\n",
    "        item.decolar()\n",
    "\n",
    "    print('-----')"
   ]
  },
  {
   "cell_type": "code",
   "execution_count": null,
   "metadata": {},
   "outputs": [],
   "source": []
  }
 ],
 "metadata": {
  "kernelspec": {
   "display_name": "kernel-python-basico",
   "language": "python",
   "name": "python3"
  },
  "language_info": {
   "codemirror_mode": {
    "name": "ipython",
    "version": 3
   },
   "file_extension": ".py",
   "mimetype": "text/x-python",
   "name": "python",
   "nbconvert_exporter": "python",
   "pygments_lexer": "ipython3",
   "version": "3.11.4"
  }
 },
 "nbformat": 4,
 "nbformat_minor": 2
}

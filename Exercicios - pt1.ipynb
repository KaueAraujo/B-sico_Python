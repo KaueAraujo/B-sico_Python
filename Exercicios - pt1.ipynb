{
 "cells": [
  {
   "cell_type": "code",
   "execution_count": 1,
   "metadata": {},
   "outputs": [],
   "source": [
    "# Exercício 1 - Crie um objeto a partir da classe abaixo, chamado roc1, \n",
    "# passando 2 parâmetros e depois faça uma chamada aos atributos e métodos\n",
    "from math import sqrt\n",
    "\n",
    "class Rocket():\n",
    "     \n",
    "    def __init__(self, x=0, y=0):\n",
    "        self.x = x\n",
    "        self.y = y\n",
    "        \n",
    "    def move_rocket(self, x_increment=0, y_increment=1):\n",
    "        self.x += x_increment\n",
    "        self.y += y_increment\n",
    "        \n",
    "    def print_rocket(self):\n",
    "        print(self.x, self.y)\n",
    "        "
   ]
  },
  {
   "cell_type": "code",
   "execution_count": 2,
   "metadata": {},
   "outputs": [],
   "source": [
    "roc1 = Rocket(x=4,y=5)"
   ]
  },
  {
   "cell_type": "code",
   "execution_count": 3,
   "metadata": {},
   "outputs": [
    {
     "name": "stdout",
     "output_type": "stream",
     "text": [
      "4\n",
      "5\n"
     ]
    }
   ],
   "source": [
    "print(roc1.x)\n",
    "print(roc1.y)"
   ]
  },
  {
   "cell_type": "code",
   "execution_count": 4,
   "metadata": {},
   "outputs": [],
   "source": [
    "roc1.move_rocket()"
   ]
  },
  {
   "cell_type": "code",
   "execution_count": 5,
   "metadata": {},
   "outputs": [
    {
     "name": "stdout",
     "output_type": "stream",
     "text": [
      "4 6\n"
     ]
    }
   ],
   "source": [
    "roc1.print_rocket()"
   ]
  },
  {
   "cell_type": "code",
   "execution_count": 6,
   "metadata": {},
   "outputs": [],
   "source": [
    "# Exercício 2 - Crie uma classe chamada Pessoa() com os atributos: nome, cidade, telefone e e-mail. Use pelo menos 2\n",
    "# métodos especiais na sua classe. Crie um objeto da sua classe e faça uma chamada a pelo menos um dos seus métodos\n",
    "# especiais.\n",
    "\n",
    "class Pessoa:\n",
    "\n",
    "    def __init__(self, nome, cidade, telefone, email):\n",
    "        self.nome = nome\n",
    "        self.cidade = cidade\n",
    "        self.telefone = telefone\n",
    "        self.email = email\n",
    "        print(\"Objeto Pessoa criado com sucesso!\")\n",
    "\n",
    "    def printCadastro(self):\n",
    "        print(\"--- CADASTRO ---\")\n",
    "        print(\"Nome: \", self.nome)\n",
    "        print(\"Cidade: \", self.cidade)\n",
    "        print(\"Telefone: \", self.telefone)\n",
    "        print(\"E-mail: \", self.email)\n",
    "        print(\"----------------\")\n",
    "\n",
    "    def setTelefon(self, new_telefone):\n",
    "        self.telefone = new_telefone"
   ]
  },
  {
   "cell_type": "code",
   "execution_count": 7,
   "metadata": {},
   "outputs": [
    {
     "name": "stdout",
     "output_type": "stream",
     "text": [
      "Objeto Pessoa criado com sucesso!\n"
     ]
    }
   ],
   "source": [
    "pes1 = Pessoa(\"Bob\", \"São Paulo\", 11123456789, \"bob@gmail.com.br\")"
   ]
  },
  {
   "cell_type": "code",
   "execution_count": 8,
   "metadata": {},
   "outputs": [
    {
     "name": "stdout",
     "output_type": "stream",
     "text": [
      "--- CADASTRO ---\n",
      "Nome:  Bob\n",
      "Cidade:  São Paulo\n",
      "Telefone:  11123456789\n",
      "E-mail:  bob@gmail.com.br\n",
      "----------------\n"
     ]
    }
   ],
   "source": [
    "pes1.printCadastro()"
   ]
  },
  {
   "cell_type": "code",
   "execution_count": 9,
   "metadata": {},
   "outputs": [
    {
     "name": "stdout",
     "output_type": "stream",
     "text": [
      "--- CADASTRO ---\n",
      "Nome:  Bob\n",
      "Cidade:  São Paulo\n",
      "Telefone:  11999999999\n",
      "E-mail:  bob@gmail.com.br\n",
      "----------------\n"
     ]
    }
   ],
   "source": [
    "pes1.setTelefon(11999999999)\n",
    "pes1.printCadastro()"
   ]
  },
  {
   "cell_type": "code",
   "execution_count": 12,
   "metadata": {},
   "outputs": [],
   "source": [
    "# Exercício 3 - Crie a classe Smartphone com 2 atributos, tamanho e interface e crie a classe MP3Player com os \n",
    "# atributos capacidade. A classe MP3player deve herdar os atributos da classe Smartphone.\n",
    "\n",
    "class Smartphone():\n",
    "\n",
    "    def __init__(self, tamanho, interface):\n",
    "        self.tamanho = tamanho\n",
    "        self.interface = interface\n",
    "\n",
    "class MP3Player(Smartphone):\n",
    "\n",
    "    def __init__(self, tamanho, interface, capacidade):\n",
    "        Smartphone.__init__(self,tamanho, interface)\n",
    "        self.capacidade = capacidade\n",
    "\n",
    "    def display(self):\n",
    "        print(\"--- CARACTERISTICAS ---\")\n",
    "        print(\"Tamanho: \", self.tamanho)\n",
    "        print(\"Interface: \", self.interface)\n",
    "        print(\"Capacidade: \", self.capacidade)"
   ]
  },
  {
   "cell_type": "code",
   "execution_count": 13,
   "metadata": {},
   "outputs": [],
   "source": [
    "mp3 = MP3Player(12, \"LCD\", 4)"
   ]
  },
  {
   "cell_type": "code",
   "execution_count": 14,
   "metadata": {},
   "outputs": [
    {
     "name": "stdout",
     "output_type": "stream",
     "text": [
      "--- CARACTERISTICAS ---\n",
      "Tamanho:  12\n",
      "Interface:  LCD\n",
      "Capacidade:  4\n"
     ]
    }
   ],
   "source": [
    "mp3.display()"
   ]
  },
  {
   "cell_type": "code",
   "execution_count": null,
   "metadata": {},
   "outputs": [],
   "source": []
  }
 ],
 "metadata": {
  "kernelspec": {
   "display_name": "kernel-python-basico",
   "language": "python",
   "name": "python3"
  },
  "language_info": {
   "codemirror_mode": {
    "name": "ipython",
    "version": 3
   },
   "file_extension": ".py",
   "mimetype": "text/x-python",
   "name": "python",
   "nbconvert_exporter": "python",
   "pygments_lexer": "ipython3",
   "version": "3.11.4"
  }
 },
 "nbformat": 4,
 "nbformat_minor": 2
}
